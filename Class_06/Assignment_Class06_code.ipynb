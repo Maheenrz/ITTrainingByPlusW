{
 "cells": [
  {
   "cell_type": "code",
   "execution_count": null,
   "metadata": {
    "vscode": {
     "languageId": "plaintext"
    }
   },
   "outputs": [],
   "source": [
    "import numpy as np\n",
    "import matplotlib.pyplot as plt\n",
    "\n",
    "# Simulated stock prices\n",
    "days = np.arange(1, 31)\n",
    "prices = np.cumsum(np.random.randn(30) * 2 + 100)  # Randomized stock prices\n",
    "\n",
    "plt.figure(figsize=(10, 5), dpi=100)\n",
    "plt.plot(days, prices, linestyle='-', marker='o', color='b', markersize=6,\n",
    "label=\"Stock Price\")\n",
    "\n",
    "# Adding labels, title, and legend\n",
    "plt.xlabel(\"Day\")\n",
    "plt.ylabel(\"Price (USD)\")\n",
    "plt.title(\"Stock Price Trend\")\n",
    "plt.legend()\n",
    "plt.grid(True)\n",
    "\n",
    "# Show the plot\n",
    "plt.show()"
   ]
  },
  {
   "cell_type": "code",
   "execution_count": null,
   "metadata": {
    "vscode": {
     "languageId": "plaintext"
    }
   },
   "outputs": [],
   "source": [
    "import matplotlib.pyplot as plt\n",
    "import numpy as np\n",
    "\n",
    "days = np.arange(1, 11)\n",
    "temp_day = np.random.randint(25, 35, size=10)\n",
    "temp_night = np.random.randint(15, 25, size=10)\n",
    "\n",
    "plt.figure(figsize=(8, 5))\n",
    "\n",
    "# Day temperature\n",
    "plt.plot(days, temp_day, linestyle='--', marker='o', color='r',\n",
    "markersize=8, label=\"Day Temperature\")\n",
    "\n",
    "# Night temperature\n",
    "plt.plot(days, temp_night, linestyle='-', marker='s', color='b',\n",
    "markersize=8, label=\"Night Temperature\")\n",
    "\n",
    "# Adding labels, title, and legend\n",
    "plt.xlabel(\"Days\")\n",
    "plt.ylabel(\"Temperature (°C)\")\n",
    "plt.title(\"Daily Temperature Variation\")\n",
    "plt.legend()\n",
    "plt.grid()\n",
    "\n",
    "plt.show()\n",
    "\n"
   ]
  },
  {
   "cell_type": "code",
   "execution_count": null,
   "metadata": {
    "vscode": {
     "languageId": "plaintext"
    }
   },
   "outputs": [],
   "source": [
    "import matplotlib.pyplot as plt\n",
    "import numpy as np\n",
    "\n",
    "\n",
    "# • Concepts Used: Scatter plot, color mapping, size variations\n",
    "# • Use Case: Visualizing population growth in different countries\n",
    "\n",
    "# Sample data\n",
    "countries = [\"USA\", \"China\", \"India\", \"Brazil\", \"Germany\"]\n",
    "pop_growth = np.array([0.8, 1.2, 1.5, 0.9, 0.5])  # Growth in percentage\n",
    "population = np.array([331, 1441, 1380, 213, 83])  # Population in millions\n",
    "\n",
    "# Scatter plot with size variation\n",
    "plt.figure(figsize=(8, 5))\n",
    "plt.scatter(pop_growth, population, c=population, cmap='viridis',\n",
    "s=population * 2, alpha=0.6)\n",
    "\n",
    "# Labels\n",
    "plt.xlabel(\"Population Growth (%)\")\n",
    "plt.ylabel(\"Total Population (millions)\")\n",
    "plt.title(\"Population Growth vs. Total Population\")\n",
    "\n",
    "# Adding annotations\n",
    "for i, country in enumerate(countries):\n",
    "    plt.annotate(country, (pop_growth[i], population[i]), fontsize=10,\n",
    "ha='right')\n",
    "\n",
    "plt.colorbar(label=\"Population (millions)\")\n",
    "plt.grid()\n",
    "plt.show()\n",
    "\n",
    "\n"
   ]
  },
  {
   "cell_type": "code",
   "execution_count": null,
   "metadata": {
    "vscode": {
     "languageId": "plaintext"
    }
   },
   "outputs": [],
   "source": [
    "import matplotlib.pyplot as plt\n",
    "import numpy as np\n",
    "\n",
    "\n",
    "# • Concepts Used: Scatter plot, color categories, transparency\n",
    "# • Use Case: Visualizing customer segments in e-commerce\n",
    "# Simulated customer data\n",
    "np.random.seed(42)\n",
    "age = np.random.randint(18, 60, 100)\n",
    "spending_score = np.random.randint(20, 100, 100)\n",
    "categories = np.random.choice([1, 2, 3, 4], 100)  # 4 different customer types\n",
    "\n",
    "# Scatter plot with category-based colors\n",
    "plt.figure(figsize=(8, 5))\n",
    "scatter = plt.scatter(age, spending_score, c=categories, cmap='jet',\n",
    "alpha=0.7)\n",
    "\n",
    "plt.xlabel(\"Age\")\n",
    "plt.ylabel(\"Spending Score\")\n",
    "plt.title(\"Customer Segmentation Analysis\")\n",
    "plt.colorbar(label=\"Customer Category\")\n",
    "\n",
    "plt.grid()\n",
    "plt.show()"
   ]
  },
  {
   "cell_type": "code",
   "execution_count": null,
   "metadata": {
    "vscode": {
     "languageId": "plaintext"
    }
   },
   "outputs": [],
   "source": [
    "import numpy as np\n",
    "import matplotlib.pyplot as plt\n",
    "from mpl_toolkits.mplot3d import Axes3D\n",
    "\n",
    "\n",
    "# Concepts Used: 3D plotting, scatter plots, colormaps\n",
    "# Use Case: Visualizing sales performance in different regions\n",
    "\n",
    "\n",
    "# Sample sales data\n",
    "np.random.seed(42)\n",
    "region = np.random.randint(1, 6, 50)  # 5 regions\n",
    "sales = np.random.randint(500, 10000, 50)\n",
    "profit = np.random.randint(50, 1000, 50)\n",
    "\n",
    "fig = plt.figure(figsize=(10, 6))\n",
    "ax = fig.add_subplot(111, projection='3d')\n",
    "\n",
    "# Scatter plot\n",
    "scatter = ax.scatter(region, sales, profit, c=profit, cmap='coolwarm', s=50,\n",
    "alpha=0.7)\n",
    "\n",
    "# Labels\n",
    "ax.set_xlabel(\"Region\")\n",
    "ax.set_ylabel(\"Sales\")\n",
    "ax.set_zlabel(\"Profit\")\n",
    "ax.set_title(\"3D Sales Performance Analysis\")\n",
    "fig.colorbar(scatter, label=\"Profit\")\n",
    "\n",
    "plt.show()\n",
    "\n",
    "\n",
    "\n",
    "\n"
   ]
  }
 ],
 "metadata": {
  "language_info": {
   "name": "python"
  }
 },
 "nbformat": 4,
 "nbformat_minor": 2
}
