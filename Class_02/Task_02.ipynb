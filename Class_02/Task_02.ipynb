{
 "cells": [
  {
   "cell_type": "code",
   "execution_count": null,
   "metadata": {},
   "outputs": [],
   "source": [
    "import math\n",
    "print(\"Calculate the area of the following shapes\")\n",
    "print(\"1. Circle\")\n",
    "print(\"2. Rectangle\")\n",
    "print(\"3. Triangle\")\n",
    "print(\"4. Square\")\n",
    "# Area Calculation of Different Shapes"
   ]
  },
  {
   "cell_type": "code",
   "execution_count": 17,
   "metadata": {},
   "outputs": [
    {
     "name": "stdout",
     "output_type": "stream",
     "text": [
      "Find the area of the circle!\n"
     ]
    }
   ],
   "source": [
    "print(\"Find the area of the circle!\")\n",
    "radius = float(input(\"Enter the radius of the circle: \"))\n",
    "areaOfCircle = math.pi * radius ** 2\n"
   ]
  },
  {
   "cell_type": "code",
   "execution_count": 18,
   "metadata": {},
   "outputs": [
    {
     "name": "stdout",
     "output_type": "stream",
     "text": [
      "Find the area of the rectangle!\n"
     ]
    }
   ],
   "source": [
    "print(\"Find the area of the rectangle!\")\n",
    "length = float(input(\"Enter the length of the rectangle: \"))\n",
    "width = float(input(\"Enter the width of the rectangle: \"))\n",
    "areaOfRectangle = length * width"
   ]
  },
  {
   "cell_type": "code",
   "execution_count": 19,
   "metadata": {},
   "outputs": [
    {
     "name": "stdout",
     "output_type": "stream",
     "text": [
      "Find the area of the triangle!\n"
     ]
    }
   ],
   "source": [
    "print(\"Find the area of the triangle!\")\n",
    "base = float(input(\"Enter the base of the triangle: \"))\n",
    "height = float(input(\"Enter the height of the triangle: \"))\n",
    "areaOfTriangle = 0.5 * base * height"
   ]
  },
  {
   "cell_type": "code",
   "execution_count": 20,
   "metadata": {},
   "outputs": [
    {
     "name": "stdout",
     "output_type": "stream",
     "text": [
      "Find the area of the square!\n"
     ]
    }
   ],
   "source": [
    "print(\"Find the area of the square!\")\n",
    "side = float(input(\"Enter the side of the square:\"))\n",
    "areaOfSquare = side ** 2"
   ]
  },
  {
   "cell_type": "code",
   "execution_count": 23,
   "metadata": {},
   "outputs": [
    {
     "name": "stdout",
     "output_type": "stream",
     "text": [
      "The area of all the shapes are\n",
      "The area of the circle is: 28.274333882308138\n",
      "The area of the rectangle is: 30.0 \n",
      "The area of the square is: 4.0 \n",
      "The area of the rectangle is: 4.0 \n"
     ]
    }
   ],
   "source": [
    "# Displaying the areas of all shapes\n",
    "print(\"The area of all the shapes are\")\n",
    "print(f\"The area of the circle is: {areaOfCircle}\")\n",
    "print(f\"The area of the rectangle is: {areaOfRectangle} \")\n",
    "print(f\"The area of the square is: {areaOfSquare} \")\n",
    "print(f\"The area of the rectangle is: {areaOfTriangle} \")"
   ]
  }
 ],
 "metadata": {
  "kernelspec": {
   "display_name": "Python 3",
   "language": "python",
   "name": "python3"
  },
  "language_info": {
   "codemirror_mode": {
    "name": "ipython",
    "version": 3
   },
   "file_extension": ".py",
   "mimetype": "text/x-python",
   "name": "python",
   "nbconvert_exporter": "python",
   "pygments_lexer": "ipython3",
   "version": "3.9.6"
  }
 },
 "nbformat": 4,
 "nbformat_minor": 2
}
