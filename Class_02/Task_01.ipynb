{
 "cells": [
  {
   "cell_type": "code",
   "execution_count": null,
   "metadata": {},
   "outputs": [
    {
     "name": "stdout",
     "output_type": "stream",
     "text": [
      "Hello, maheen razzaq\n"
     ]
    }
   ],
   "source": [
    "# User Name Input\n",
    "firstName = input(\"Enter your first name: \")\n",
    "lastName = input(\"Enter your last name: \")\n",
    "\n",
    "print(\"Hello, \" + firstName + \" \" + lastName)"
   ]
  },
  {
   "cell_type": "code",
   "execution_count": 3,
   "metadata": {},
   "outputs": [
    {
     "name": "stdout",
     "output_type": "stream",
     "text": [
      "First name(upper): MAHEEN\n",
      "Last name(upper): razzaq\n"
     ]
    }
   ],
   "source": [
    "# Converting names to uppercase and lowercase\n",
    "print(f\"First name(upper): {firstName.upper()}\")\n",
    "print(f\"Last name(upper): {lastName.lower()}\")\n"
   ]
  },
  {
   "cell_type": "code",
   "execution_count": 4,
   "metadata": {},
   "outputs": [
    {
     "name": "stdout",
     "output_type": "stream",
     "text": [
      "Total number of letters in your first name and last name: 12\n"
     ]
    }
   ],
   "source": [
    "#Calculating total number of letters in both names\n",
    "totalLetters = len(firstName) + len(lastName)\n",
    "print(f\"Total number of letters in your first name and last name: {totalLetters}\")"
   ]
  }
 ],
 "metadata": {
  "kernelspec": {
   "display_name": "Python 3",
   "language": "python",
   "name": "python3"
  },
  "language_info": {
   "codemirror_mode": {
    "name": "ipython",
    "version": 3
   },
   "file_extension": ".py",
   "mimetype": "text/x-python",
   "name": "python",
   "nbconvert_exporter": "python",
   "pygments_lexer": "ipython3",
   "version": "3.9.6"
  }
 },
 "nbformat": 4,
 "nbformat_minor": 2
}
