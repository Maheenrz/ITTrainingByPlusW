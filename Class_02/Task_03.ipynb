{
 "cells": [
  {
   "cell_type": "code",
   "execution_count": null,
   "metadata": {},
   "outputs": [
    {
     "name": "stdout",
     "output_type": "stream",
     "text": [
      "Selected color: purple\n",
      "Password generated: elprup\n"
     ]
    }
   ],
   "source": [
    "#Random Color-Based Password Generator in Python\n",
    "\n",
    "import random\n",
    "colors = [\"red\", \"blue\", \"green\", \"yellow\", \"orange\", \"purple\"]\n",
    "\n",
    "\n",
    "index = random.randint(0, len(colors) - 1)\n",
    "selected_color = colors[index]\n",
    "\n",
    "# Generating a password by reversing selected color\n",
    "password = selected_color[::-1]\n",
    "\n",
    "print(f\"Selected color: {selected_color}\")\n",
    "print(f\"Password generated: {password}\")"
   ]
  }
 ],
 "metadata": {
  "kernelspec": {
   "display_name": "Python 3",
   "language": "python",
   "name": "python3"
  },
  "language_info": {
   "codemirror_mode": {
    "name": "ipython",
    "version": 3
   },
   "file_extension": ".py",
   "mimetype": "text/x-python",
   "name": "python",
   "nbconvert_exporter": "python",
   "pygments_lexer": "ipython3",
   "version": "3.9.6"
  }
 },
 "nbformat": 4,
 "nbformat_minor": 2
}
